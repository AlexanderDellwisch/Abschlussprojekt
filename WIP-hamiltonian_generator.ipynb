{
 "cells": [
  {
   "cell_type": "code",
   "execution_count": 32,
   "metadata": {},
   "outputs": [
    {
     "name": "stdout",
     "output_type": "stream",
     "text": [
      "[[      0.          -41666.66666667       0.               0.               0.        ]\n",
      " [ -41666.66666667   83333.33333333  -41666.66666667       0.               0.        ]\n",
      " [      0.          -41666.66666667  166666.66666667  -41666.66666667\n",
      "        0.        ]\n",
      " [      0.               0.          -41666.66666667  250000.\n",
      "   -41666.66666667]\n",
      " [      0.               0.               0.          -41666.66666667\n",
      "   333333.33333333]]\n"
     ]
    }
   ],
   "source": [
    "import numpy as np\n",
    "# input: potential, delta, mass\n",
    "mass = 3\n",
    "delta = 0.002\n",
    "potential = np.array([[0, 0], [1, 1], [2, 2], [3, 3], [4, 4]])\n",
    "V_diskr = []\n",
    "for pair in potential:\n",
    "    V_diskr.append(pair[1])\n",
    "\n",
    "content = []\n",
    "\n",
    "aa = 1 / (mass * (delta**2))\n",
    "\n",
    "content.append(aa * V_diskr[0])\n",
    "for columns in range(0, len(V_diskr)-1):   \n",
    "    content.append(-0.5 * aa)\n",
    "    for num in range(0, len(V_diskr)-2):\n",
    "         content.append(0)\n",
    "    content.append(-0.5 * aa)               \n",
    "    content.append(aa * V_diskr[columns+1])\n",
    "content = np.array(content)\n",
    "content.shape = (len(V_diskr), len(V_diskr))\n",
    "print(content)"
   ]
  },
  {
   "cell_type": "code",
   "execution_count": null,
   "metadata": {},
   "outputs": [],
   "source": []
  }
 ],
 "metadata": {
  "kernelspec": {
   "display_name": "Python 3",
   "language": "python",
   "name": "python3"
  },
  "language_info": {
   "codemirror_mode": {
    "name": "ipython",
    "version": 3
   },
   "file_extension": ".py",
   "mimetype": "text/x-python",
   "name": "python",
   "nbconvert_exporter": "python",
   "pygments_lexer": "ipython3",
   "version": "3.6.9"
  }
 },
 "nbformat": 4,
 "nbformat_minor": 2
}
