{
 "cells": [
  {
   "cell_type": "code",
   "execution_count": 33,
   "metadata": {},
   "outputs": [
    {
     "name": "stdout",
     "output_type": "stream",
     "text": [
      "[[      0.          -41666.66666667       0.               0.        ]\n",
      " [ -41666.66666667   83333.33333333  -41666.66666667       0.        ]\n",
      " [      0.          -41666.66666667  166666.66666667  -41666.66666667]\n",
      " [      0.               0.          -41666.66666667  250000.        ]]\n"
     ]
    }
   ],
   "source": [
    "import numpy as np\n",
    "# input: potential, delta, mass\n",
    "mass = 3\n",
    "delta = 0.002\n",
    "potential = np.array([[0, 0], [1, 1], [2, 2], [3, 3]])\n",
    "V_diskr = []\n",
    "for pair in potential:\n",
    "    V_diskr.append(pair[1])\n",
    "\n",
    "content = []\n",
    "\n",
    "aa = 1 / (mass * (delta**2))\n",
    "\n",
    "content.append(aa * V_diskr[0])\n",
    "for columns in range(0, len(V_diskr)-1):   \n",
    "    content.append(-0.5 * aa)\n",
    "    for num in range(0, len(V_diskr)-2):\n",
    "         content.append(0)\n",
    "    content.append(-0.5 * aa)               \n",
    "    content.append(aa * V_diskr[columns+1])\n",
    "content = np.array(content)\n",
    "content.shape = (len(V_diskr), len(V_diskr))\n",
    "print(content)"
   ]
  },
  {
   "cell_type": "code",
   "execution_count": 9,
   "metadata": {},
   "outputs": [
    {
     "name": "stdout",
     "output_type": "stream",
     "text": [
      "[ -18786.27770529   81379.66829974  166666.66666667  251953.66503359\n",
      "  352119.61103862] [[ 0.90737016 -0.40530571  0.10976426 -0.01884969  0.00178074]\n",
      " [ 0.40910659  0.79160745 -0.43905704  0.11398197 -0.01504881]\n",
      " [ 0.09529717  0.44242256  0.76834982 -0.44242256  0.09529717]\n",
      " [ 0.01504881  0.11398197  0.43905704  0.79160745 -0.40910659]\n",
      " [ 0.00178074  0.01884969  0.10976426  0.40530571  0.90737016]]\n"
     ]
    }
   ],
   "source": [
    "import numpy.linalg as linalg\n",
    "ew,ev = linalg.eig(content)\n",
    "print(ew,ev)"
   ]
  },
  {
   "cell_type": "code",
   "execution_count": 7,
   "metadata": {},
   "outputs": [
    {
     "ename": "ModuleNotFoundError",
     "evalue": "No module named 'solvers'",
     "output_type": "error",
     "traceback": [
      "\u001b[0;31m---------------------------------------------------------------------------\u001b[0m",
      "\u001b[0;31mModuleNotFoundError\u001b[0m                       Traceback (most recent call last)",
      "\u001b[0;32m<ipython-input-7-438d18bc9bb6>\u001b[0m in \u001b[0;36m<module>\u001b[0;34m()\u001b[0m\n\u001b[0;32m----> 1\u001b[0;31m \u001b[0;32mimport\u001b[0m \u001b[0msolvers\u001b[0m\u001b[0;34m\u001b[0m\u001b[0;34m\u001b[0m\u001b[0m\n\u001b[0m\u001b[1;32m      2\u001b[0m \u001b[0mxx_gauss\u001b[0m \u001b[0;34m=\u001b[0m \u001b[0msolvers\u001b[0m\u001b[0;34m.\u001b[0m\u001b[0mgaussian_eliminate\u001b[0m\u001b[0;34m(\u001b[0m\u001b[0mcontent\u001b[0m\u001b[0;34m)\u001b[0m\u001b[0;34m\u001b[0m\u001b[0;34m\u001b[0m\u001b[0m\n\u001b[1;32m      3\u001b[0m \u001b[0mprint\u001b[0m\u001b[0;34m(\u001b[0m\u001b[0mxx_gauss\u001b[0m\u001b[0;34m)\u001b[0m\u001b[0;34m\u001b[0m\u001b[0;34m\u001b[0m\u001b[0m\n",
      "\u001b[0;31mModuleNotFoundError\u001b[0m: No module named 'solvers'"
     ]
    }
   ],
   "source": [
    "import solvers\n",
    "xx_gauss = solvers.gaussian_eliminate(content)\n",
    "print(xx_gauss)"
   ]
  },
  {
   "cell_type": "code",
   "execution_count": null,
   "metadata": {},
   "outputs": [],
   "source": []
  }
 ],
 "metadata": {
  "kernelspec": {
   "display_name": "Python 3",
   "language": "python",
   "name": "python3"
  },
  "language_info": {
   "codemirror_mode": {
    "name": "ipython",
    "version": 3
   },
   "file_extension": ".py",
   "mimetype": "text/x-python",
   "name": "python",
   "nbconvert_exporter": "python",
   "pygments_lexer": "ipython3",
   "version": "3.6.9"
  }
 },
 "nbformat": 4,
 "nbformat_minor": 2
}
