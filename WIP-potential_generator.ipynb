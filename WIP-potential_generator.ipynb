{
 "cells": [
  {
   "cell_type": "code",
   "execution_count": 3,
   "metadata": {},
   "outputs": [
    {
     "name": "stdout",
     "output_type": "stream",
     "text": [
      "input: [[  2.00000000e+00   0.00000000e+00   0.00000000e+00]\n",
      " [ -2.00000000e+00   2.00000000e+00   1.99900000e+03]\n",
      " [  1.00000000e+00   5.00000000e+00   0.00000000e+00]\n",
      " [  0.00000000e+00   0.00000000e+00   0.00000000e+00]\n",
      " [  2.00000000e+00   0.00000000e+00   0.00000000e+00]\n",
      " [ -2.00000000e+00   0.00000000e+00   0.00000000e+00]\n",
      " [  2.00000000e+00   0.00000000e+00   0.00000000e+00]]\n"
     ]
    }
   ],
   "source": [
    "import numpy as np\n",
    "alldata = []\n",
    "with open(\"input/5.1Potentialtopf\") as fp:\n",
    "    for line in fp:\n",
    "        alldata.append(line.strip())\n",
    "dataline_y = 0\n",
    "for dataline in alldata:\n",
    "    alldata[dataline_y] = dataline.split(\"#\")[0].strip().split()\n",
    "    #removes annotation of input data and splits lines into lists of individual inputs\n",
    "    dataline_y += 1\n",
    "\n",
    "if alldata[3] == ['linear']:\n",
    "    alldata[3] = [0]\n",
    "elif alldata[3] == ['polynomial']:\n",
    "    alldata[3] = [1]\n",
    "elif alldata[3] == ['cspline']:\n",
    "    alldata[3] = [2]\n",
    "#else:\n",
    "    #alldata[3]\n",
    "    #raise some kind of input error\n",
    "\n",
    "newdata = np.zeros((len(alldata),3))\n",
    "line_y = 0\n",
    "for line in alldata:\n",
    "    line_x = 0\n",
    "    for coll in alldata[line_y]:\n",
    "        newdata[line_y,line_x] = alldata[line_y][line_x]\n",
    "        line_x += 1\n",
    "    line_y += 1\n",
    "print('input:', newdata)\n",
    "#this is all just the input generator\n",
    "\n",
    "#now to the actual stuff:\n",
    "\n",
    "\n",
    "for number_of_inputs in range(0,len(points)):\n",
    "        for nn in range(0, nPoint):\n",
    "            if points[0,number_of_inputs] >= XX[nn]:\n",
    "                #hier muss ich mir noch überlegen wie ich YY auswähle und\n",
    "                #ob das so geschickt ist\n",
    "\n",
    "\n",
    "\n",
    "\n",
    "    potential = np.zeros((2,nPoint))\n",
    "    XX = np.linspace(xMin, xMax, nPoint, endpoint=True)\n",
    "    YY = []\n",
    "    delta = abs(XX[1]-XX[0])\n",
    "    #test values for y in matrix\n",
    "    for nn in range(0, nPoint):\n",
    "        YY.append(nn)\n",
    "        #statt append hier lieber die variable an stelle nn durch den\n",
    "        #jeweiligen y-wert ersetzen\n",
    "    for index in range(0, nPoint):\n",
    "        potential[0,index] = XX[index]\n",
    "        potential[1,index] = YY[index]\n",
    "\n",
    "\n"
   ]
  },
  {
   "cell_type": "code",
   "execution_count": null,
   "metadata": {},
   "outputs": [],
   "source": []
  }
 ],
 "metadata": {
  "kernelspec": {
   "display_name": "Python 3",
   "language": "python",
   "name": "python3"
  },
  "language_info": {
   "codemirror_mode": {
    "name": "ipython",
    "version": 3
   },
   "file_extension": ".py",
   "mimetype": "text/x-python",
   "name": "python",
   "nbconvert_exporter": "python",
   "pygments_lexer": "ipython3",
   "version": "3.6.9"
  }
 },
 "nbformat": 4,
 "nbformat_minor": 2
}
