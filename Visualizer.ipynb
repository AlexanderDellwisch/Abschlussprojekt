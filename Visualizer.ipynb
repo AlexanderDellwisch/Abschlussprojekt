{
 "cells": [
  {
   "cell_type": "code",
   "execution_count": 2,
   "metadata": {},
   "outputs": [
    {
     "name": "stdout",
     "output_type": "stream",
     "text": [
      "input: [[  4.00000000e+00   0.00000000e+00   0.00000000e+00]\n",
      " [ -2.00000000e+01   2.00000000e+01   1.99900000e+03]\n",
      " [  1.00000000e+00   1.00000000e+01   0.00000000e+00]\n",
      " [  2.00000000e+00   0.00000000e+00   0.00000000e+00]\n",
      " [  5.00000000e+00   0.00000000e+00   0.00000000e+00]\n",
      " [ -2.00000000e+01   3.50000000e+01   0.00000000e+00]\n",
      " [ -1.00000000e+01   0.00000000e+00   0.00000000e+00]\n",
      " [  0.00000000e+00   2.00000000e+00   0.00000000e+00]\n",
      " [  1.00000000e+01   0.00000000e+00   0.00000000e+00]\n",
      " [  2.00000000e+01   3.50000000e+01   0.00000000e+00]]\n",
      "[[-20.          35.        ]\n",
      " [-19.97997998  34.85204916]\n",
      " [-19.95995996  34.70449262]\n",
      " ..., \n",
      " [ 19.95995996  34.70449262]\n",
      " [ 19.97997998  34.85204916]\n",
      " [ 20.          35.        ]] 0.02002002002\n"
     ]
    }
   ],
   "source": [
    "import numpy as np\n",
    "alldata = []\n",
    "with open(\"input/5.5Potentialtopf\") as fp:\n",
    "    for line in fp:\n",
    "        alldata.append(line.strip())\n",
    "dataline_y = 0\n",
    "for dataline in alldata:\n",
    "    alldata[dataline_y] = dataline.split(\"#\")[0].strip().split()\n",
    "    #removes annotation of input data and splits lines into lists of individual inputs\n",
    "    dataline_y += 1\n",
    "\n",
    "if alldata[3] == ['linear']:\n",
    "    alldata[3] = [0]\n",
    "elif alldata[3] == ['polynomial']:\n",
    "    alldata[3] = [1]\n",
    "elif alldata[3] == ['cspline']:\n",
    "    alldata[3] = [2]\n",
    "#else:\n",
    "    #alldata[3]\n",
    "    #raise some kind of input error\n",
    "\n",
    "newdata = np.zeros((len(alldata),3))\n",
    "line_y = 0\n",
    "for line in alldata:\n",
    "    line_x = 0\n",
    "    for coll in alldata[line_y]:\n",
    "        newdata[line_y,line_x] = alldata[line_y][line_x]\n",
    "        line_x += 1\n",
    "    line_y += 1\n",
    "print('input:', newdata)\n",
    "#this is all just the input generator\n",
    "\n",
    "#now to the actual stuff:\n",
    "\n",
    "import scipy.interpolate as inter\n",
    "yy, xx = newdata.shape\n",
    "base = newdata[5:yy+1, 0:2]\n",
    "x_data = []\n",
    "y_data = [] \n",
    "\n",
    "pointcount = 0\n",
    "for item in base:\n",
    "    x_data.append(base[pointcount,0])\n",
    "    y_data.append(base[pointcount,1])\n",
    "    pointcount += 1\n",
    "\n",
    "#check if that works with floats\n",
    "if newdata[3,0]:\n",
    "    if newdata[3,0] == 1.0:\n",
    "        Vx = np.polyfit(x_data, y_data, yy - 6)\n",
    "    else:\n",
    "        Vx = inter.CubicSpline(x_data, y_data)\n",
    "else:\n",
    "    Vx = inter.interp1d(x_data, y_data, kind ='linear')\n",
    "\n",
    "potential = np.zeros((int(newdata[1,2]),2))\n",
    "XX_values = np.linspace(int(newdata[1,0]), int(newdata[1,1]), int(newdata[1,2]), endpoint=True)\n",
    "delta = XX_values[1] - XX_values[0]\n",
    "\n",
    "pointcount = 0\n",
    "for item in XX_values:\n",
    "    potential[pointcount,0] = item\n",
    "    potential[pointcount,1] = Vx(item)\n",
    "    pointcount += 1\n",
    "\n",
    "print(potential, delta)"
   ]
  },
  {
   "cell_type": "code",
   "execution_count": 3,
   "metadata": {},
   "outputs": [
    {
     "name": "stdout",
     "output_type": "stream",
     "text": [
      "[[ 2500000.           -41666.66666667        0.         ...,        0.\n",
      "         0.                0.        ]\n",
      " [  -41666.66666667  2482137.43396492   -41666.66666667 ...,        0.\n",
      "         0.                0.        ]\n",
      " [       0.           -41666.66666667  2464322.46762183 ...,        0.\n",
      "         0.                0.        ]\n",
      " ..., \n",
      " [       0.                0.                0.         ...,\n",
      "    316664.12518714   -41666.66666667        0.        ]\n",
      " [       0.                0.                0.         ...,\n",
      "    -41666.66666667   316665.47006161   -41666.66666667]\n",
      " [       0.                0.                0.         ...,        0.\n",
      "    -41666.66666667   316666.66666667]]\n"
     ]
    },
    {
     "ename": "KeyboardInterrupt",
     "evalue": "",
     "output_type": "error",
     "traceback": [
      "\u001b[0;31m---------------------------------------------------------------------------\u001b[0m",
      "\u001b[0;31mKeyboardInterrupt\u001b[0m                         Traceback (most recent call last)",
      "\u001b[0;32m<ipython-input-3-73cd7d3d6c61>\u001b[0m in \u001b[0;36m<module>\u001b[0;34m()\u001b[0m\n\u001b[1;32m     24\u001b[0m \u001b[0;34m\u001b[0m\u001b[0m\n\u001b[1;32m     25\u001b[0m \u001b[0;32mimport\u001b[0m \u001b[0mnumpy\u001b[0m\u001b[0;34m.\u001b[0m\u001b[0mlinalg\u001b[0m \u001b[0;32mas\u001b[0m \u001b[0mlinalg\u001b[0m\u001b[0;34m\u001b[0m\u001b[0;34m\u001b[0m\u001b[0m\n\u001b[0;32m---> 26\u001b[0;31m \u001b[0mew\u001b[0m\u001b[0;34m,\u001b[0m \u001b[0mev\u001b[0m \u001b[0;34m=\u001b[0m \u001b[0mlinalg\u001b[0m\u001b[0;34m.\u001b[0m\u001b[0meig\u001b[0m\u001b[0;34m(\u001b[0m\u001b[0mcontent\u001b[0m\u001b[0;34m)\u001b[0m\u001b[0;34m\u001b[0m\u001b[0;34m\u001b[0m\u001b[0m\n\u001b[0m\u001b[1;32m     27\u001b[0m \u001b[0mprint\u001b[0m\u001b[0;34m(\u001b[0m\u001b[0mew\u001b[0m\u001b[0;34m,\u001b[0m \u001b[0mev\u001b[0m\u001b[0;34m)\u001b[0m\u001b[0;34m\u001b[0m\u001b[0;34m\u001b[0m\u001b[0m\n",
      "\u001b[0;32m/usr/lib/python3/dist-packages/numpy/linalg/linalg.py\u001b[0m in \u001b[0;36meig\u001b[0;34m(a)\u001b[0m\n\u001b[1;32m   1132\u001b[0m         _raise_linalgerror_eigenvalues_nonconvergence)\n\u001b[1;32m   1133\u001b[0m     \u001b[0msignature\u001b[0m \u001b[0;34m=\u001b[0m \u001b[0;34m'D->DD'\u001b[0m \u001b[0;32mif\u001b[0m \u001b[0misComplexType\u001b[0m\u001b[0;34m(\u001b[0m\u001b[0mt\u001b[0m\u001b[0;34m)\u001b[0m \u001b[0;32melse\u001b[0m \u001b[0;34m'd->DD'\u001b[0m\u001b[0;34m\u001b[0m\u001b[0;34m\u001b[0m\u001b[0m\n\u001b[0;32m-> 1134\u001b[0;31m     \u001b[0mw\u001b[0m\u001b[0;34m,\u001b[0m \u001b[0mvt\u001b[0m \u001b[0;34m=\u001b[0m \u001b[0m_umath_linalg\u001b[0m\u001b[0;34m.\u001b[0m\u001b[0meig\u001b[0m\u001b[0;34m(\u001b[0m\u001b[0ma\u001b[0m\u001b[0;34m,\u001b[0m \u001b[0msignature\u001b[0m\u001b[0;34m=\u001b[0m\u001b[0msignature\u001b[0m\u001b[0;34m,\u001b[0m \u001b[0mextobj\u001b[0m\u001b[0;34m=\u001b[0m\u001b[0mextobj\u001b[0m\u001b[0;34m)\u001b[0m\u001b[0;34m\u001b[0m\u001b[0;34m\u001b[0m\u001b[0m\n\u001b[0m\u001b[1;32m   1135\u001b[0m \u001b[0;34m\u001b[0m\u001b[0m\n\u001b[1;32m   1136\u001b[0m     \u001b[0;32mif\u001b[0m \u001b[0;32mnot\u001b[0m \u001b[0misComplexType\u001b[0m\u001b[0;34m(\u001b[0m\u001b[0mt\u001b[0m\u001b[0;34m)\u001b[0m \u001b[0;32mand\u001b[0m \u001b[0mall\u001b[0m\u001b[0;34m(\u001b[0m\u001b[0mw\u001b[0m\u001b[0;34m.\u001b[0m\u001b[0mimag\u001b[0m \u001b[0;34m==\u001b[0m \u001b[0;36m0.0\u001b[0m\u001b[0;34m)\u001b[0m\u001b[0;34m:\u001b[0m\u001b[0;34m\u001b[0m\u001b[0;34m\u001b[0m\u001b[0m\n",
      "\u001b[0;31mKeyboardInterrupt\u001b[0m: "
     ]
    }
   ],
   "source": [
    "import numpy as np\n",
    "# input: potential, delta, mass\n",
    "mass = 3\n",
    "delta = 0.002\n",
    "\n",
    "V_diskr = []\n",
    "for pair in potential:\n",
    "    V_diskr.append(pair[1])\n",
    "\n",
    "content = []\n",
    "\n",
    "aa = 1 / (mass * (delta**2))\n",
    "\n",
    "content.append(aa * V_diskr[0])\n",
    "for columns in range(0, len(V_diskr)-1):   \n",
    "    content.append(-0.5 * aa)\n",
    "    for num in range(0, len(V_diskr)-2):\n",
    "         content.append(0)\n",
    "    content.append(-0.5 * aa)               \n",
    "    content.append(aa * V_diskr[columns+1])\n",
    "content = np.array(content)\n",
    "content.shape = (len(V_diskr), len(V_diskr))\n",
    "print(content)\n",
    "\n",
    "import numpy.linalg as linalg\n",
    "ew, ev = linalg.eig(content)\n",
    "print(ew, ev)"
   ]
  },
  {
   "cell_type": "code",
   "execution_count": 16,
   "metadata": {},
   "outputs": [
    {
     "data": {
      "text/plain": [
       "<matplotlib.legend.Legend at 0x7fbe1f910278>"
      ]
     },
     "execution_count": 16,
     "metadata": {},
     "output_type": "execute_result"
    },
    {
     "data": {
      "image/png": "[encoded data removed]",
      "text/plain": [
       "<matplotlib.figure.Figure at 0x7fbe1f9fd5f8>"
      ]
     },
     "metadata": {},
     "output_type": "display_data"
    }
   ],
   "source": [
    "%matplotlib inline\n",
    "import numpy as np\n",
    "import matplotlib.pyplot as plt\n",
    "\n",
    "xx = potential[:, 0]\n",
    "y1 = potential[:, 1]\n",
    "\n",
    "\n",
    "\n",
    "#y2 = eigenwert1\n",
    "plt.subplot(2, 1, 1)\n",
    "plt.plot(xx, y1, color=\"black\", label=\"potential curve\")\n",
    "\n",
    "ew.tolist()\n",
    "for wert in ew:  #dort packen wir eine Liste mit den Eigenwerten hin\n",
    "    eigenwert = []\n",
    "    for xwert in potential:\n",
    "        eigenwert.append(wert)\n",
    "    plt.plot(xx, eigenwert, color=\"grey\")\n",
    "    \n",
    "    \n",
    "ev.transpose()\n",
    "ev.tolist()\n",
    "for vektor in ev: #dort kommt eine Liste mit Eigenvektoren hin\n",
    "    plt.plot(xx, vektor, color=\"blue\")\n",
    "\n",
    "    \n",
    "\n",
    "plt.xlabel(\"x [Bohr]\")\n",
    "plt.ylabel(\"Energy [Hartree]\")\n",
    "plt.legend()\n",
    "\n",
    "\n",
    "vektoren² =[]\n",
    "for vektor in ev:\n",
    "    vektoren².append(vektor**2)\n",
    "xvalues = []\n",
    "for i in potential[:,1]\n",
    "    xvalues.append(i)\n",
    "\n",
    "Liste = []\n",
    "for ii in len(xvalues):\n",
    "    Liste.append(xvalues[ii] * vektoren²[ii])\n",
    "\n",
    "x_mittel = delta * sum(Liste)\n",
    "\n",
    "\n",
    "for wert in range(0,10):  #dort packen wir eine Liste mit den Eigenwerten hin\n",
    "    eigenwert = []\n",
    "    for xwert in potential:\n",
    "        eigenwert.append(wert)\n",
    "    if wert - lastwert < 0.002: #das müssen die eigenwerte sein\n",
    "        plt.plot(xx, vektor, color=\"blue\")\n",
    "    else:\n",
    "        plt.plot(xx, vektor, color=\"red\")\n",
    "    lastwert = wert\n",
    "\n",
    "\n",
    "\n",
    "#plt.subplot(2, 1, 2)\n",
    "plt.plot(xx, eigenwert, color=\"grey\")\n",
    "sigma = []\n",
    "for wkeit in Liste:\n",
    "    sigma.append(wkeit - x_mittel)\n",
    "sum(sigma)\n",
    "\n",
    "#plt.xlabel(\"Bohr]\")"
   ]
  },
  {
   "cell_type": "code",
   "execution_count": 4,
   "metadata": {},
   "outputs": [
    {
     "data": {
      "image/png": "[encoded data removed]",
      "text/plain": [
       "<matplotlib.figure.Figure at 0x7f73bfd5dac8>"
      ]
     },
     "metadata": {},
     "output_type": "display_data"
    }
   ],
   "source": [
    "%matplotlib inline\n",
    "import numpy as np\n",
    "import matplotlib.pyplot as plt\n",
    "\n",
    "potential = np.loadtxt(\"potential.dat\")\n",
    "xx = potential[:, 0]\n",
    "y1 = potential[:, 1]\n",
    "plt.plot(xx, y1, color=\"black\", label=\"potential curve\")\n",
    "aa = np.loadtxt(\"wavefunctions.dat\")\n",
    "bb = np.loadtxt(\"energies.dat\")\n",
    "#plt.plot(xx, aa[:, 1] + bb[0])\n",
    "#plt.plot(xx, aa[:, 2] + bb[1])\n",
    "#plt.plot(xx, aa[:, 3] + bb[2])\n",
    "\n",
    "plotnr = 0\n",
    "for wert in bb:  #dort packen wir eine Liste mit den Eigenwerten hin\n",
    "    eigenwert = []\n",
    "    for xwert in potential:\n",
    "        eigenwert.append(wert)\n",
    "    plt.plot(xx, eigenwert, color=\"grey\")\n",
    "    \n",
    "    if plotnr % 2:\n",
    "        color = \"red\"\n",
    "    else:\n",
    "        color = \"blue\"\n",
    "    plt.plot(xx, aa[:, plotnr + 1] + wert, color=color)\n",
    "    plotnr += 1\n"
   ]
  },
  {
   "cell_type": "code",
   "execution_count": null,
   "metadata": {},
   "outputs": [],
   "source": []
  }
 ],
 "metadata": {
  "kernelspec": {
   "display_name": "Python 3",
   "language": "python",
   "name": "python3"
  },
  "language_info": {
   "codemirror_mode": {
    "name": "ipython",
    "version": 3
   },
   "file_extension": ".py",
   "mimetype": "text/x-python",
   "name": "python",
   "nbconvert_exporter": "python",
   "pygments_lexer": "ipython3",
   "version": "3.6.9"
  }
 },
 "nbformat": 4,
 "nbformat_minor": 2
}
