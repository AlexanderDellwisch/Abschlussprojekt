{
 "cells": [
  {
   "cell_type": "code",
   "execution_count": 2,
   "metadata": {},
   "outputs": [
    {
     "name": "stdout",
     "output_type": "stream",
     "text": [
      "input: [[  2.00000000e+00   0.00000000e+00   0.00000000e+00]\n",
      " [ -2.00000000e+00   2.00000000e+00   1.99900000e+03]\n",
      " [  1.00000000e+00   3.00000000e+00   0.00000000e+00]\n",
      " [  0.00000000e+00   0.00000000e+00   0.00000000e+00]\n",
      " [  6.00000000e+00   0.00000000e+00   0.00000000e+00]\n",
      " [ -2.00000000e+00   0.00000000e+00   0.00000000e+00]\n",
      " [ -5.00000000e-01   0.00000000e+00   0.00000000e+00]\n",
      " [ -5.00000000e-01  -1.00000000e+01   0.00000000e+00]\n",
      " [  5.00000000e-01  -1.00000000e+01   0.00000000e+00]\n",
      " [  5.00000000e-01   0.00000000e+00   0.00000000e+00]\n",
      " [  2.00000000e+00   0.00000000e+00   0.00000000e+00]]\n",
      "[[-2.        0.      ]\n",
      " [-1.997998  0.      ]\n",
      " [-1.995996  0.      ]\n",
      " ..., \n",
      " [ 1.995996  0.      ]\n",
      " [ 1.997998  0.      ]\n",
      " [ 2.        0.      ]] 0.002002002002\n"
     ]
    }
   ],
   "source": [
    "import numpy as np\n",
    "alldata = []\n",
    "with open(\"input/5.2Potentialtopf\") as fp:\n",
    "    for line in fp:\n",
    "        alldata.append(line.strip())\n",
    "dataline_y = 0\n",
    "for dataline in alldata:\n",
    "    alldata[dataline_y] = dataline.split(\"#\")[0].strip().split()\n",
    "    #removes annotation of input data and splits lines into lists of individual inputs\n",
    "    dataline_y += 1\n",
    "\n",
    "if alldata[3] == ['linear']:\n",
    "    alldata[3] = [0]\n",
    "elif alldata[3] == ['polynomial']:\n",
    "    alldata[3] = [1]\n",
    "elif alldata[3] == ['cspline']:\n",
    "    alldata[3] = [2]\n",
    "#else:\n",
    "    #alldata[3]\n",
    "    #raise some kind of input error\n",
    "\n",
    "newdata = np.zeros((len(alldata),3))\n",
    "line_y = 0\n",
    "for line in alldata:\n",
    "    line_x = 0\n",
    "    for coll in alldata[line_y]:\n",
    "        newdata[line_y,line_x] = alldata[line_y][line_x]\n",
    "        line_x += 1\n",
    "    line_y += 1\n",
    "print('input:', newdata)\n",
    "#this is all just the input generator\n",
    "\n",
    "#now to the actual stuff:\n",
    "\n",
    "import scipy.interpolate as inter\n",
    "yy, xx = newdata.shape\n",
    "base = newdata[5:yy+1, 0:2]\n",
    "x_data = []\n",
    "y_data = [] \n",
    "\n",
    "pointcount = 0\n",
    "for item in base:\n",
    "    x_data.append(base[pointcount,0])\n",
    "    y_data.append(base[pointcount,1])\n",
    "    pointcount += 1\n",
    "\n",
    "#check if that works with floats\n",
    "if newdata[3,0]:\n",
    "    if newdata[3,0] == 1.0:\n",
    "        Vx = np.polyfit(x_data, y_data, yy - 6)\n",
    "    else:\n",
    "        Vx = inter.CubicSpline(x_data, y_data)\n",
    "else:\n",
    "    Vx = inter.interp1d(x_data, y_data, kind ='linear')\n",
    "\n",
    "potential = np.zeros((int(newdata[1,2]),2))\n",
    "XX_values = np.linspace(int(newdata[1,0]), int(newdata[1,1]), int(newdata[1,2]), endpoint=True)\n",
    "delta = XX_values[1] - XX_values[0]\n",
    "\n",
    "pointcount = 0\n",
    "for item in XX_values:\n",
    "    potential[pointcount,0] = item\n",
    "    potential[pointcount,1] = Vx(item)\n",
    "    pointcount += 1\n",
    "\n",
    "print(potential, delta)"
   ]
  },
  {
   "cell_type": "code",
   "execution_count": 3,
   "metadata": {},
   "outputs": [
    {
     "name": "stdout",
     "output_type": "stream",
     "text": [
      "[[     0.         -41666.66666667      0.         ...,      0.              0.\n",
      "       0.        ]\n",
      " [-41666.66666667      0.         -41666.66666667 ...,      0.              0.\n",
      "       0.        ]\n",
      " [     0.         -41666.66666667      0.         ...,      0.              0.\n",
      "       0.        ]\n",
      " ..., \n",
      " [     0.              0.              0.         ...,      0.\n",
      "  -41666.66666667      0.        ]\n",
      " [     0.              0.              0.         ..., -41666.66666667\n",
      "       0.         -41666.66666667]\n",
      " [     0.              0.              0.         ...,      0.\n",
      "  -41666.66666667      0.        ]]\n",
      "[-82336.99798435 -82390.02566663 -83332.60409574 ...,  -4001.80789601\n",
      "   4012.8971365   35284.07632083] [[ -7.95639739e-03   7.74301113e-03  -2.15898432e-04 ...,   5.79600935e-36\n",
      "    4.27088558e-35   6.63824745e-36]\n",
      " [ -1.57225410e-02   1.53107253e-02  -4.31793085e-04 ...,   5.56668384e-37\n",
      "   -4.11326988e-36  -5.62138631e-36]\n",
      " [ -2.31127265e-02   2.25318140e-02  -6.47680182e-04 ...,  -5.74254503e-36\n",
      "   -4.23127087e-35  -1.87795728e-36]\n",
      " ..., \n",
      " [  0.00000000e+00   0.00000000e+00   0.00000000e+00 ...,  -5.10703682e-02\n",
      "   -5.10672392e-02   1.32257264e-02]\n",
      " [  0.00000000e+00   0.00000000e+00   0.00000000e+00 ...,   4.95063760e-03\n",
      "   -4.96430845e-03   3.95892484e-02]\n",
      " [  0.00000000e+00   0.00000000e+00   0.00000000e+00 ...,   5.15458443e-02\n",
      "    5.15453495e-02  -4.67506078e-02]]\n"
     ]
    }
   ],
   "source": [
    "import numpy as np\n",
    "# input: potential, delta, mass\n",
    "mass = 3\n",
    "delta = 0.002\n",
    "\n",
    "V_diskr = []\n",
    "for pair in potential:\n",
    "    V_diskr.append(pair[1])\n",
    "\n",
    "content = []\n",
    "\n",
    "aa = 1 / (mass * (delta**2))\n",
    "\n",
    "content.append(aa * V_diskr[0])\n",
    "for columns in range(0, len(V_diskr)-1):   \n",
    "    content.append(-0.5 * aa)\n",
    "    for num in range(0, len(V_diskr)-2):\n",
    "         content.append(0)\n",
    "    content.append(-0.5 * aa)               \n",
    "    content.append(aa * V_diskr[columns+1])\n",
    "content = np.array(content)\n",
    "content.shape = (len(V_diskr), len(V_diskr))\n",
    "print(content)\n",
    "\n",
    "import numpy.linalg as linalg\n",
    "ew, ev = linalg.eig(content)\n",
    "print(ew, ev)"
   ]
  },
  {
   "cell_type": "code",
   "execution_count": 16,
   "metadata": {},
   "outputs": [
    {
     "data": {
      "text/plain": [
       "<matplotlib.legend.Legend at 0x7fbe1f910278>"
      ]
     },
     "execution_count": 16,
     "metadata": {},
     "output_type": "execute_result"
    },
    {
     "data": {
      "image/png": "[encoded data removed]",
      "text/plain": [
       "<matplotlib.figure.Figure at 0x7fbe1f9fd5f8>"
      ]
     },
     "metadata": {},
     "output_type": "display_data"
    }
   ],
   "source": [
    "%matplotlib inline\n",
    "import numpy as np\n",
    "import matplotlib.pyplot as plt\n",
    "\n",
    "xx = potential[:, 0]\n",
    "y1 = potential[:, 1]\n",
    "\n",
    "\n",
    "\n",
    "#y2 = eigenwert1\n",
    "plt.subplot(2, 1, 1)\n",
    "plt.plot(xx, y1, color=\"black\", label=\"potential curve\")\n",
    "\n",
    "ew.tolist()\n",
    "for wert in ew:  #dort packen wir eine Liste mit den Eigenwerten hin\n",
    "    eigenwert = []\n",
    "    for xwert in potential:\n",
    "        eigenwert.append(wert)\n",
    "    plt.plot(xx, eigenwert, color=\"grey\")\n",
    "    \n",
    "    \n",
    "ev.transpose()\n",
    "ev.tolist()\n",
    "for vektor in ev: #dort kommt eine Liste mit Eigenvektoren hin\n",
    "    plt.plot(xx, vektor, color=\"blue\")\n",
    "\n",
    "    \n",
    "\n",
    "plt.xlabel(\"x [Bohr]\")\n",
    "plt.ylabel(\"Energy [Hartree]\")\n",
    "plt.legend()\n",
    "\n",
    "\n",
    "vektoren² =[]\n",
    "for vektor in ev:\n",
    "    vektoren².append(vektor**2)\n",
    "xvalues = []\n",
    "for i in potential[:,1]\n",
    "    xvalues.append(i)\n",
    "\n",
    "Liste = []\n",
    "for ii in len(xvalues):\n",
    "    Liste.append(xvalues[ii] * vektoren²[ii])\n",
    "\n",
    "x_mittel = delta * sum(Liste)\n",
    "\n",
    "\n",
    "for wert in range(0,10):  #dort packen wir eine Liste mit den Eigenwerten hin\n",
    "    eigenwert = []\n",
    "    for xwert in potential:\n",
    "        eigenwert.append(wert)\n",
    "    if wert - lastwert < 0.002: #das müssen die eigenwerte sein\n",
    "        plt.plot(xx, vektor, color=\"blue\")\n",
    "    else:\n",
    "        plt.plot(xx, vektor, color=\"red\")\n",
    "    lastwert = wert\n",
    "\n",
    "\n",
    "\n",
    "#plt.subplot(2, 1, 2)\n",
    "plt.plot(xx, eigenwert, color=\"grey\")\n",
    "sigma = []\n",
    "for wkeit in Liste:\n",
    "    sigma.append(wkeit - x_mittel)\n",
    "sum(sigma)\n",
    "\n",
    "#plt.xlabel(\"Bohr]\")"
   ]
  },
  {
   "cell_type": "code",
   "execution_count": 5,
   "metadata": {},
   "outputs": [
    {
     "data": {
      "text/plain": [
       "[<matplotlib.lines.Line2D at 0x7f1a05289860>]"
      ]
     },
     "execution_count": 5,
     "metadata": {},
     "output_type": "execute_result"
    },
    {
     "data": {
      "image/png": "[encoded data removed]",
      "text/plain": [
       "<matplotlib.figure.Figure at 0x7f1a052ffa90>"
      ]
     },
     "metadata": {},
     "output_type": "display_data"
    }
   ],
   "source": [
    "%matplotlib inline\n",
    "import numpy as np\n",
    "import matplotlib.pyplot as plt\n",
    "\n",
    "xx = potential[:, 0]\n",
    "y1 = potential[:, 1]\n",
    "plt.plot(xx, y1, color=\"black\", label=\"potential curve\")\n",
    "aa = np.loadtxt(\"wavefunctions.dat\")\n",
    "plt.plot(xx, aa[:, 1])\n",
    "#plt.plot(xx, aa[:, 2])\n",
    "#plt.plot(xx, aa[:, 3])"
   ]
  },
  {
   "cell_type": "code",
   "execution_count": null,
   "metadata": {},
   "outputs": [],
   "source": []
  }
 ],
 "metadata": {
  "kernelspec": {
   "display_name": "Python 3",
   "language": "python",
   "name": "python3"
  },
  "language_info": {
   "codemirror_mode": {
    "name": "ipython",
    "version": 3
   },
   "file_extension": ".py",
   "mimetype": "text/x-python",
   "name": "python",
   "nbconvert_exporter": "python",
   "pygments_lexer": "ipython3",
   "version": "3.6.9"
  }
 },
 "nbformat": 4,
 "nbformat_minor": 2
}
