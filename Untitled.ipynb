{
 "cells": [
  {
   "cell_type": "code",
   "execution_count": 34,
   "metadata": {
    "scrolled": true
   },
   "outputs": [
    {
     "name": "stdout",
     "output_type": "stream",
     "text": [
      "aa: 0\n",
      "bb: 0\n",
      "itemtype: <class 'float'>\n",
      "2.0\n"
     ]
    },
    {
     "ename": "TypeError",
     "evalue": "'str' object does not support item assignment",
     "output_type": "error",
     "traceback": [
      "\u001b[0;31m---------------------------------------------------------------------------\u001b[0m",
      "\u001b[0;31mTypeError\u001b[0m                                 Traceback (most recent call last)",
      "\u001b[0;32m<ipython-input-34-12bef38d9775>\u001b[0m in \u001b[0;36m<module>\u001b[0;34m()\u001b[0m\n\u001b[1;32m     16\u001b[0m             \u001b[0mprint\u001b[0m\u001b[0;34m(\u001b[0m\u001b[0;34m'itemtype:'\u001b[0m\u001b[0;34m,\u001b[0m\u001b[0mtype\u001b[0m\u001b[0;34m(\u001b[0m\u001b[0mitem\u001b[0m\u001b[0;34m)\u001b[0m\u001b[0;34m)\u001b[0m\u001b[0;34m\u001b[0m\u001b[0;34m\u001b[0m\u001b[0m\n\u001b[1;32m     17\u001b[0m             \u001b[0mprint\u001b[0m\u001b[0;34m(\u001b[0m\u001b[0mitem\u001b[0m\u001b[0;34m)\u001b[0m\u001b[0;34m\u001b[0m\u001b[0;34m\u001b[0m\u001b[0m\n\u001b[0;32m---> 18\u001b[0;31m             \u001b[0mdata\u001b[0m\u001b[0;34m[\u001b[0m\u001b[0maa\u001b[0m\u001b[0;34m,\u001b[0m\u001b[0mbb\u001b[0m\u001b[0;34m]\u001b[0m \u001b[0;34m=\u001b[0m \u001b[0mitem\u001b[0m\u001b[0;34m\u001b[0m\u001b[0;34m\u001b[0m\u001b[0m\n\u001b[0m\u001b[1;32m     19\u001b[0m             \u001b[0mbb\u001b[0m \u001b[0;34m+=\u001b[0m \u001b[0;36m1\u001b[0m\u001b[0;34m\u001b[0m\u001b[0;34m\u001b[0m\u001b[0m\n\u001b[1;32m     20\u001b[0m         \u001b[0maa\u001b[0m \u001b[0;34m+=\u001b[0m \u001b[0;36m1\u001b[0m\u001b[0;34m\u001b[0m\u001b[0;34m\u001b[0m\u001b[0m\n",
      "\u001b[0;31mTypeError\u001b[0m: 'str' object does not support item assignment"
     ]
    }
   ],
   "source": [
    "import numpy as np\n",
    "\n",
    "#data = np.zeros((3,5))\n",
    "\n",
    "#data = np.loadtxt(\"input/5.1Potentialtopf\")\n",
    "\n",
    "with open(\"input/5.1Potentialtopf\") as fp:\n",
    "    aa = 0\n",
    "    for line in fp:\n",
    "        print('aa:',aa)\n",
    "        line_coll = line.split()\n",
    "        bb = 0\n",
    "        for item in line_coll:\n",
    "            print('bb:',bb)\n",
    "            item = float(item)\n",
    "            print('itemtype:',type(item))\n",
    "            print(item)\n",
    "            data[aa,bb] = item\n",
    "            bb += 1\n",
    "        aa += 1\n",
    "    #data = fp.read()\n",
    "    #data.split(\"\\n\")\n",
    "    #print(data)\n",
    "    #lines = fp.readlines()\n",
    "#print(lines)\n",
    "    \n",
    "#data = np.loadtxt(\"input/123-array\")\n",
    "#data = np.loadtxt(fp)\n",
    "\n",
    "#for line in data:\n",
    "    #print(data)\n",
    "#print(data)\n",
    "\n"
   ]
  },
  {
   "cell_type": "code",
   "execution_count": 38,
   "metadata": {
    "scrolled": true
   },
   "outputs": [
    {
     "name": "stdout",
     "output_type": "stream",
     "text": [
      "aa: 0\n",
      "bb: 0\n",
      "itemtype: <class 'float'>\n",
      "2.0\n",
      "bb: 1\n"
     ]
    },
    {
     "ename": "ValueError",
     "evalue": "could not convert string to float: '#'",
     "output_type": "error",
     "traceback": [
      "\u001b[0;31m---------------------------------------------------------------------------\u001b[0m",
      "\u001b[0;31mValueError\u001b[0m                                Traceback (most recent call last)",
      "\u001b[0;32m<ipython-input-38-fd421013bef1>\u001b[0m in \u001b[0;36m<module>\u001b[0;34m()\u001b[0m\n\u001b[1;32m      8\u001b[0m         \u001b[0;32mfor\u001b[0m \u001b[0mitem\u001b[0m \u001b[0;32min\u001b[0m \u001b[0mline_coll\u001b[0m\u001b[0;34m:\u001b[0m\u001b[0;34m\u001b[0m\u001b[0;34m\u001b[0m\u001b[0m\n\u001b[1;32m      9\u001b[0m             \u001b[0mprint\u001b[0m\u001b[0;34m(\u001b[0m\u001b[0;34m'bb:'\u001b[0m\u001b[0;34m,\u001b[0m\u001b[0mbb\u001b[0m\u001b[0;34m)\u001b[0m\u001b[0;34m\u001b[0m\u001b[0;34m\u001b[0m\u001b[0m\n\u001b[0;32m---> 10\u001b[0;31m             \u001b[0mitem\u001b[0m \u001b[0;34m=\u001b[0m \u001b[0mfloat\u001b[0m\u001b[0;34m(\u001b[0m\u001b[0mitem\u001b[0m\u001b[0;34m)\u001b[0m\u001b[0;34m\u001b[0m\u001b[0;34m\u001b[0m\u001b[0m\n\u001b[0m\u001b[1;32m     11\u001b[0m             \u001b[0mprint\u001b[0m\u001b[0;34m(\u001b[0m\u001b[0;34m'itemtype:'\u001b[0m\u001b[0;34m,\u001b[0m\u001b[0mtype\u001b[0m\u001b[0;34m(\u001b[0m\u001b[0mitem\u001b[0m\u001b[0;34m)\u001b[0m\u001b[0;34m)\u001b[0m\u001b[0;34m\u001b[0m\u001b[0;34m\u001b[0m\u001b[0m\n\u001b[1;32m     12\u001b[0m             \u001b[0mprint\u001b[0m\u001b[0;34m(\u001b[0m\u001b[0mitem\u001b[0m\u001b[0;34m)\u001b[0m\u001b[0;34m\u001b[0m\u001b[0;34m\u001b[0m\u001b[0m\n",
      "\u001b[0;31mValueError\u001b[0m: could not convert string to float: '#'"
     ]
    }
   ],
   "source": [
    "data = np.zeros((3,5), dtype=float)\n",
    "with open(\"input/5.1Potentialtopf\") as fp:\n",
    "    aa = 0\n",
    "    for line in fp:\n",
    "        print('aa:',aa)\n",
    "        line_coll = line.split()\n",
    "        bb = 0\n",
    "        for item in line_coll:\n",
    "            print('bb:',bb)\n",
    "            if not item[0] = '#':\n",
    "            item = float(item)\n",
    "            print('itemtype:',type(item))\n",
    "            print(item)\n",
    "            data[aa,bb] = item\n",
    "            bb += 1\n",
    "        aa += 1"
   ]
  },
  {
   "cell_type": "code",
   "execution_count": 136,
   "metadata": {
    "scrolled": false
   },
   "outputs": [
    {
     "ename": "SyntaxError",
     "evalue": "unexpected EOF while parsing (<ipython-input-136-99f6c240895b>, line 12)",
     "output_type": "error",
     "traceback": [
      "\u001b[0;36m  File \u001b[0;32m\"<ipython-input-136-99f6c240895b>\"\u001b[0;36m, line \u001b[0;32m12\u001b[0m\n\u001b[0;31m    #newdata[dataline_y,dataline_x] = element.strip()\u001b[0m\n\u001b[0m                                                     ^\u001b[0m\n\u001b[0;31mSyntaxError\u001b[0m\u001b[0;31m:\u001b[0m unexpected EOF while parsing\n"
     ]
    }
   ],
   "source": [
    "newdata = np.zeros((7,3))\n",
    "alldata = []\n",
    "with open(\"input/5.1Potentialtopf\") as fp:\n",
    "    for line in fp:\n",
    "        alldata.append(line.split(\"\\n\")[0])\n",
    "dataline_y = 0\n",
    "for dataline in alldata:\n",
    "    line = (dataline.split(\"#\")[0])\n",
    "    print(line)\n",
    "    for element in line.split():\n",
    "        #print(element)\n",
    "        #newdata[dataline_y,dataline_x] = element.strip()\n"
   ]
  },
  {
   "cell_type": "code",
   "execution_count": 179,
   "metadata": {},
   "outputs": [
    {
     "name": "stdout",
     "output_type": "stream",
     "text": [
      "[[  2.00000000e+00   0.00000000e+00   0.00000000e+00]\n",
      " [ -2.00000000e+00   2.00000000e+00   1.99900000e+03]\n",
      " [  1.00000000e+00   5.00000000e+00   0.00000000e+00]\n",
      " [  0.00000000e+00   0.00000000e+00   0.00000000e+00]\n",
      " [  2.00000000e+00   0.00000000e+00   0.00000000e+00]\n",
      " [ -2.00000000e+00   0.00000000e+00   0.00000000e+00]\n",
      " [  2.00000000e+00   0.00000000e+00   0.00000000e+00]]\n"
     ]
    }
   ],
   "source": [
    "alldata = []\n",
    "with open(\"input/5.1Potentialtopf\") as fp:\n",
    "    for line in fp:\n",
    "        alldata.append(line.strip())\n",
    "dataline_y = 0\n",
    "for dataline in alldata:\n",
    "    alldata[dataline_y] = dataline.split(\"#\")[0].strip().split()\n",
    "    #removes annotation of input data and splits lines into lists of individual inputs\n",
    "    dataline_y += 1\n",
    "\n",
    "if alldata[3] == ['linear']:\n",
    "    alldata[3] = [0]\n",
    "elif alldata[3] == ['polynomial']:\n",
    "    alldata[3] = [1]\n",
    "elif alldata[3] == ['cspline']:\n",
    "    alldata[3] = [2]\n",
    "#else:\n",
    "    #alldata[3] \n",
    "    #raise some kind of input error\n",
    "\n",
    "newdata = np.zeros((len(alldata),3))\n",
    "line_y = 0\n",
    "for line in alldata:\n",
    "    line_x = 0\n",
    "    for coll in alldata[line_y]:\n",
    "        newdata[line_y,line_x] = alldata[line_y][line_x]\n",
    "        line_x += 1\n",
    "    line_y += 1\n",
    "print(newdata)\n"
   ]
  },
  {
   "cell_type": "code",
   "execution_count": null,
   "metadata": {},
   "outputs": [],
   "source": []
  }
 ],
 "metadata": {
  "kernelspec": {
   "display_name": "Python 3",
   "language": "python",
   "name": "python3"
  },
  "language_info": {
   "codemirror_mode": {
    "name": "ipython",
    "version": 3
   },
   "file_extension": ".py",
   "mimetype": "text/x-python",
   "name": "python",
   "nbconvert_exporter": "python",
   "pygments_lexer": "ipython3",
   "version": "3.6.9"
  }
 },
 "nbformat": 4,
 "nbformat_minor": 2
}
